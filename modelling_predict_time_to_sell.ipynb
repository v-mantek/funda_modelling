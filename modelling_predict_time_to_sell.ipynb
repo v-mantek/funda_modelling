{
 "cells": [
  {
   "cell_type": "markdown",
   "source": [
    "# NOTEBOOK 2: PREDICTING TIME TO SELL MODELLING"
   ],
   "metadata": {}
  },
  {
   "cell_type": "markdown",
   "source": [
    "## Necessary Libraries"
   ],
   "metadata": {}
  },
  {
   "cell_type": "markdown",
   "source": [
    "This notebook will utilize the following libraries for the model predictions:"
   ],
   "metadata": {}
  },
  {
   "cell_type": "code",
   "execution_count": 22,
   "source": [
    "#Importing necessary libraries\n",
    "\n",
    "#Libraries to import and analyze data\n",
    "import pandas as pd\n",
    "import numpy as np\n",
    "import seaborn as sns\n",
    "import matplotlib.pyplot as plt\n",
    "import sklearn\n",
    "\n",
    "#Libraries for modelling\n",
    "from sklearn.compose import ColumnTransformer\n",
    "from sklearn.preprocessing import OneHotEncoder,StandardScaler\n",
    "from sklearn.preprocessing import LabelEncoder\n",
    "from sklearn.model_selection import train_test_split\n",
    "from sklearn.metrics import mean_squared_error\n",
    "from math import sqrt\n",
    "    #Random Forest\n",
    "from sklearn.ensemble import RandomForestRegressor\n",
    "from sklearn.model_selection import RandomizedSearchCV\n",
    "    #Neural Network\n",
    "from sklearn.neural_network import MLPClassifier\n",
    "from sklearn.neural_network import MLPRegressor\n",
    "    #Hyperparameter Tuning\n",
    "from sklearn.model_selection import GridSearchCV\n",
    "    #Validation & Evaluation of Model Performance\n",
    "from sklearn.metrics import r2_score"
   ],
   "outputs": [],
   "metadata": {}
  },
  {
   "cell_type": "markdown",
   "source": [
    "## Importing Data"
   ],
   "metadata": {}
  },
  {
   "cell_type": "markdown",
   "source": [
    "First, the data is imported and the independent variables are split from the dependent variable (the variable we want to predict)."
   ],
   "metadata": {}
  },
  {
   "cell_type": "code",
   "execution_count": 23,
   "source": [
    "#Importing Modelling Data\n",
    "features_import = pd.read_csv('~/Desktop/DDB/ai_business/datasets/features.csv', sep = ';')\n",
    "#Removing first column which is \"Unnamed\"\n",
    "features = features_import.iloc[:, 1:]\n",
    "features.head(3)"
   ],
   "outputs": [
    {
     "output_type": "execute_result",
     "data": {
      "text/html": [
       "<div>\n",
       "<style scoped>\n",
       "    .dataframe tbody tr th:only-of-type {\n",
       "        vertical-align: middle;\n",
       "    }\n",
       "\n",
       "    .dataframe tbody tr th {\n",
       "        vertical-align: top;\n",
       "    }\n",
       "\n",
       "    .dataframe thead th {\n",
       "        text-align: right;\n",
       "    }\n",
       "</style>\n",
       "<table border=\"1\" class=\"dataframe\">\n",
       "  <thead>\n",
       "    <tr style=\"text-align: right;\">\n",
       "      <th></th>\n",
       "      <th>livingspace</th>\n",
       "      <th>plotarea</th>\n",
       "      <th>constructionyear</th>\n",
       "      <th>rooms</th>\n",
       "      <th>bathroom</th>\n",
       "    </tr>\n",
       "  </thead>\n",
       "  <tbody>\n",
       "    <tr>\n",
       "      <th>0</th>\n",
       "      <td>105</td>\n",
       "      <td>204</td>\n",
       "      <td>1985</td>\n",
       "      <td>5</td>\n",
       "      <td>1</td>\n",
       "    </tr>\n",
       "    <tr>\n",
       "      <th>1</th>\n",
       "      <td>78</td>\n",
       "      <td>132</td>\n",
       "      <td>1986</td>\n",
       "      <td>4</td>\n",
       "      <td>1</td>\n",
       "    </tr>\n",
       "    <tr>\n",
       "      <th>2</th>\n",
       "      <td>112</td>\n",
       "      <td>248</td>\n",
       "      <td>1969</td>\n",
       "      <td>5</td>\n",
       "      <td>1</td>\n",
       "    </tr>\n",
       "    <tr>\n",
       "      <th>3</th>\n",
       "      <td>119</td>\n",
       "      <td>152</td>\n",
       "      <td>1974</td>\n",
       "      <td>5</td>\n",
       "      <td>1</td>\n",
       "    </tr>\n",
       "    <tr>\n",
       "      <th>4</th>\n",
       "      <td>143</td>\n",
       "      <td>580</td>\n",
       "      <td>1979</td>\n",
       "      <td>4</td>\n",
       "      <td>1</td>\n",
       "    </tr>\n",
       "    <tr>\n",
       "      <th>...</th>\n",
       "      <td>...</td>\n",
       "      <td>...</td>\n",
       "      <td>...</td>\n",
       "      <td>...</td>\n",
       "      <td>...</td>\n",
       "    </tr>\n",
       "    <tr>\n",
       "      <th>50649</th>\n",
       "      <td>108</td>\n",
       "      <td>280</td>\n",
       "      <td>1980</td>\n",
       "      <td>4</td>\n",
       "      <td>1</td>\n",
       "    </tr>\n",
       "    <tr>\n",
       "      <th>50650</th>\n",
       "      <td>140</td>\n",
       "      <td>183</td>\n",
       "      <td>1980</td>\n",
       "      <td>6</td>\n",
       "      <td>1</td>\n",
       "    </tr>\n",
       "    <tr>\n",
       "      <th>50651</th>\n",
       "      <td>131</td>\n",
       "      <td>268</td>\n",
       "      <td>1963</td>\n",
       "      <td>5</td>\n",
       "      <td>1</td>\n",
       "    </tr>\n",
       "    <tr>\n",
       "      <th>50652</th>\n",
       "      <td>139</td>\n",
       "      <td>183</td>\n",
       "      <td>2017</td>\n",
       "      <td>5</td>\n",
       "      <td>1</td>\n",
       "    </tr>\n",
       "    <tr>\n",
       "      <th>50653</th>\n",
       "      <td>150</td>\n",
       "      <td>155</td>\n",
       "      <td>1996</td>\n",
       "      <td>6</td>\n",
       "      <td>1</td>\n",
       "    </tr>\n",
       "  </tbody>\n",
       "</table>\n",
       "<p>50654 rows × 5 columns</p>\n",
       "</div>"
      ],
      "text/plain": [
       "       livingspace  plotarea  constructionyear  rooms  bathroom\n",
       "0              105       204              1985      5         1\n",
       "1               78       132              1986      4         1\n",
       "2              112       248              1969      5         1\n",
       "3              119       152              1974      5         1\n",
       "4              143       580              1979      4         1\n",
       "...            ...       ...               ...    ...       ...\n",
       "50649          108       280              1980      4         1\n",
       "50650          140       183              1980      6         1\n",
       "50651          131       268              1963      5         1\n",
       "50652          139       183              2017      5         1\n",
       "50653          150       155              1996      6         1\n",
       "\n",
       "[50654 rows x 5 columns]"
      ]
     },
     "metadata": {},
     "execution_count": 23
    }
   ],
   "metadata": {}
  },
  {
   "cell_type": "code",
   "execution_count": 24,
   "source": [
    "#Splitting the data into independent and dependent variables\n",
    "#Independent\n",
    "X = features.iloc[:, :-1].values\n",
    "X = np.array(X)\n",
    "print(pd.DataFrame(X))\n",
    "\n",
    "#Dependent\n",
    "Y = features['days_till_sold'].values\n",
    "print(pd.DataFrame(Y))"
   ],
   "outputs": [
    {
     "output_type": "stream",
     "name": "stdout",
     "text": [
      "             0         1         2         3         4         5         6   \\\n",
      "0      0.022687  0.007394  0.000000  0.001189  0.009245  0.000000  0.005987   \n",
      "1      0.027982  0.000000  0.022138  0.000000  0.000800  0.011183  0.023545   \n",
      "2      0.000000  0.000000  0.000418  0.000000  0.001869  0.000000  0.092261   \n",
      "3      0.022065  0.000028  0.000000  0.000000  0.016810  0.000000  0.013598   \n",
      "4      0.000965  0.000861  0.000000  0.006831  0.013774  0.000925  0.008954   \n",
      "...         ...       ...       ...       ...       ...       ...       ...   \n",
      "50649  0.013529  0.000000  0.000000  0.000000  0.009660  0.000000  0.028071   \n",
      "50650  0.002739  0.088473  0.026179  0.000351  0.004336  0.070294  0.025694   \n",
      "50651  0.000000  0.000000  0.000000  0.000000  0.014653  0.000000  0.022937   \n",
      "50652  0.008729  0.000039  0.000000  0.000542  0.072851  0.000000  0.032787   \n",
      "50653  0.036544  0.000000  0.001895  0.000893  0.034566  0.000000  0.027983   \n",
      "\n",
      "             7         8         9         10     11     12      13   14   15  \n",
      "0      0.000471  0.011170  0.000000  325000.0  105.0  204.0  1985.0  5.0  1.0  \n",
      "1      0.000000  0.000388  0.000000  175000.0   78.0  132.0  1986.0  4.0  1.0  \n",
      "2      0.000000  0.003977  0.001577  419000.0  112.0  248.0  1969.0  5.0  1.0  \n",
      "3      0.054096  0.006977  0.000000  289000.0  119.0  152.0  1974.0  5.0  1.0  \n",
      "4      0.016396  0.038652  0.000000  539000.0  143.0  580.0  1979.0  4.0  1.0  \n",
      "...         ...       ...       ...       ...    ...    ...     ...  ...  ...  \n",
      "50649  0.007568  0.020303  0.000000  459000.0  108.0  280.0  1980.0  4.0  1.0  \n",
      "50650  0.004241  0.000000  0.000000  299900.0  140.0  183.0  1980.0  6.0  1.0  \n",
      "50651  0.029748  0.035464  0.000236  450000.0  131.0  268.0  1963.0  5.0  1.0  \n",
      "50652  0.011191  0.000871  0.000000  575000.0  139.0  183.0  2017.0  5.0  1.0  \n",
      "50653  0.002952  0.000000  0.003956  550000.0  150.0  155.0  1996.0  6.0  1.0  \n",
      "\n",
      "[50654 rows x 16 columns]\n",
      "        0\n",
      "0      16\n",
      "1      15\n",
      "2      13\n",
      "3      14\n",
      "4      13\n",
      "...    ..\n",
      "50649  19\n",
      "50650  40\n",
      "50651  39\n",
      "50652  31\n",
      "50653  21\n",
      "\n",
      "[50654 rows x 1 columns]\n"
     ]
    }
   ],
   "metadata": {}
  },
  {
   "cell_type": "markdown",
   "source": [
    "## Encoding of Variables (commented)"
   ],
   "metadata": {}
  },
  {
   "cell_type": "markdown",
   "source": [
    "To ensure that the model can predict in the best way possible, the column containing the Topics is encoded. This means a row will not contain the information \"Topic 1\", but instead each topic will receive a number, eg. 1.0.0.0.\n",
    "If only four topics would be present, the first topic would receive the number 1.0.0.0., the second topic 0.1.0.0. and so on and so forth."
   ],
   "metadata": {}
  },
  {
   "cell_type": "code",
   "execution_count": 25,
   "source": [
    "#Encoding the main_topic category for better data processing\n",
    "#ct = ColumnTransformer(transformers = [('encoder', OneHotEncoder(), [0])], remainder = 'passthrough')\n",
    "#X = np.array(ct.fit_transform(X))"
   ],
   "outputs": [],
   "metadata": {}
  },
  {
   "cell_type": "markdown",
   "source": [
    "## Splitting the Data"
   ],
   "metadata": {}
  },
  {
   "cell_type": "markdown",
   "source": [
    "Now the data is split into a Training Set, a Test Set and a Validation Set.\n",
    "We use train and validation for model fitting, while test will be used to evaluate the final model performance."
   ],
   "metadata": {}
  },
  {
   "cell_type": "code",
   "execution_count": 26,
   "source": [
    "#Splitting the Data \n",
    "\n",
    "#1st Split into 20% Test\n",
    "x_data, x_test, y_data, y_test = train_test_split(X, Y, test_size = 0.2, random_state = 1)\n",
    "\n",
    "#Splitting the remaining Data into 80% Train and 20% Validation\n",
    "x_train, x_validation, y_train, y_validation = train_test_split(x_data, y_data, test_size = 0.2, random_state = 1)"
   ],
   "outputs": [],
   "metadata": {}
  },
  {
   "cell_type": "markdown",
   "source": [
    "## Feature Scaling"
   ],
   "metadata": {}
  },
  {
   "cell_type": "markdown",
   "source": [
    "Using Standardization, a \"standard normal\" for each random variable is obtained, with a mean of 0 and a standard deviation of 1. This is important to compare values that have different units (eg. 1k EUR vs 2 bathrooms).\n",
    "Having variables at different scales can lead to skewing the analysis and therefore influence the model performance negatively.\n",
    "Standardization assumes that data has a Gaussian (bell curve) distribution, although this does not strictly have to be true in order for Standardization to work. It is useful to use Standardization when a dataset contains varying scales and when applying linear regressions.\n",
    "In this case, since the model is supposed to predict time to sell, a Regression Model will be used, therefore Standardization makes sense."
   ],
   "metadata": {}
  },
  {
   "cell_type": "code",
   "execution_count": 27,
   "source": [
    "#Standardizing all numerical variables\n",
    "sc = StandardScaler()\n",
    "x_train[:, -6:-1] = sc.fit_transform(x_train[:, -6:-1])\n",
    "x_validation[:, -6:-1] = sc.fit_transform(x_validation[:, -6:-1])\n",
    "x_test[:, -6:-1] = sc.fit_transform(x_test[:, -6:-1])"
   ],
   "outputs": [],
   "metadata": {}
  },
  {
   "cell_type": "code",
   "execution_count": 28,
   "source": [
    "#Visualizing the now standardized sets\n",
    "print(pd.DataFrame(x_train[:, -6:-1]).head(3))\n",
    "print(pd.DataFrame(x_validation[:, -6:-1]).head(3))\n",
    "print(pd.DataFrame(x_test[:, -6:-1]).head(3))"
   ],
   "outputs": [
    {
     "output_type": "stream",
     "name": "stdout",
     "text": [
      "          0         1         2         3         4\n",
      "0 -0.130825 -0.108320  0.287185  0.380130  0.817803\n",
      "1 -0.682715 -0.135388 -0.264374  0.578133 -0.036664\n",
      "2  0.150638 -0.027115 -0.763680  1.139139 -0.036664\n",
      "          0         1         2         3         4\n",
      "0 -0.263016 -0.548168 -0.199564  1.656203  0.805528\n",
      "1 -1.258787 -1.464780 -0.728011 -0.260838 -0.896455\n",
      "2 -0.278141  0.449322 -0.309899  0.546337 -0.045463\n",
      "          0         1         2         3         4\n",
      "0  0.846890  1.774237  0.568797  0.964094  0.781204\n",
      "1 -0.012955 -0.549669 -0.292601  0.525630  0.781204\n",
      "2 -0.967768  0.064697 -0.326381 -0.047747 -0.055588\n"
     ]
    }
   ],
   "metadata": {}
  },
  {
   "cell_type": "markdown",
   "source": [
    "## Random Forest Model"
   ],
   "metadata": {}
  },
  {
   "cell_type": "markdown",
   "source": [
    "### . . . . . Initial Model"
   ],
   "metadata": {}
  },
  {
   "cell_type": "markdown",
   "source": [
    "Using a Random Forest Regression Model, we will predict time to sell."
   ],
   "metadata": {}
  },
  {
   "cell_type": "code",
   "execution_count": 130,
   "source": [
    "#Create Random Frest Regression Model (RF)\n",
    "initial_rf = RandomForestRegressor(bootstrap = True, max_depth = 90, n_estimators = 500, random_state = 1)\n",
    "initial_rf.fit(x_train, y_train)\n",
    "\n",
    "validation_rf = RandomForestRegressor(bootstrap = True, max_depth = 90, n_estimators = 500, random_state = 1)\n",
    "validation_rf.fit(x_validation, y_validation)"
   ],
   "outputs": [
    {
     "output_type": "execute_result",
     "data": {
      "text/plain": [
       "RandomForestRegressor(max_depth=90, n_estimators=500, random_state=1)"
      ]
     },
     "metadata": {},
     "execution_count": 130
    }
   ],
   "metadata": {}
  },
  {
   "cell_type": "code",
   "execution_count": 55,
   "source": [
    "#Predict Time to Sell with RF\n",
    "initial_rf_pred = initial_rf.predict(x_test)\n",
    "initial_rf_pred"
   ],
   "outputs": [
    {
     "output_type": "execute_result",
     "data": {
      "text/plain": [
       "array([36.094, 32.472, 28.49 , ..., 32.178, 28.398, 37.632])"
      ]
     },
     "metadata": {},
     "execution_count": 55
    }
   ],
   "metadata": {}
  },
  {
   "cell_type": "code",
   "execution_count": 121,
   "source": [
    "#Visualize Prediction VS Testset\n",
    "x_ax = range(len(y_test))\n",
    "plt.plot(x_ax, y_test, linewidth=1, label=\"observed days\", color = '#62D8CC', alpha = 0.4)\n",
    "plt.plot(x_ax, initial_rf_pred, linewidth=1.1, color = '#722E80', label=\"predicted days\", alpha = 0.8)\n",
    "plt.title(\"Observed Data VS Predicted Data\")\n",
    "plt.legend(bbox_to_anchor = (1.01, 1), loc = 'upper left', borderaxespad = 1, fontsize = 12, fancybox=True, shadow=True)\n",
    "plt.grid(True)\n",
    "plt.show()"
   ],
   "outputs": [
    {
     "output_type": "display_data",
     "data": {
      "image/png": "[encoded data removed]",
      "text/plain": [
       "<Figure size 432x288 with 1 Axes>"
      ]
     },
     "metadata": {
      "needs_background": "light"
     }
    }
   ],
   "metadata": {}
  },
  {
   "cell_type": "markdown",
   "source": [
    "One can calculate the level of variation in the model outcome, based on the variables used for prediction, using the R-squared (R2) metric. A high R2 would implicate that there is a high correlation between the observed (actual) outcome and the predicted outcome."
   ],
   "metadata": {}
  },
  {
   "cell_type": "code",
   "execution_count": 57,
   "source": [
    "#Validate Model with R2\n",
    "initial_rf_r2 = r2_score(y_test, initial_rf_pred)\n",
    "initial_rf_r2"
   ],
   "outputs": [
    {
     "output_type": "execute_result",
     "data": {
      "text/plain": [
       "0.10289830231615693"
      ]
     },
     "metadata": {},
     "execution_count": 57
    }
   ],
   "metadata": {}
  },
  {
   "cell_type": "markdown",
   "source": [
    "In this case, the R2 is close to 0, which implies a very weak model. Perhaps by tuning the parameters in the following section, our model performance can be increased."
   ],
   "metadata": {}
  },
  {
   "cell_type": "markdown",
   "source": [
    "### . . . . . Hyperparameter Tuning"
   ],
   "metadata": {}
  },
  {
   "cell_type": "code",
   "execution_count": 58,
   "source": [
    "#Check list of random forest model parameters\n",
    "print(\"Parameters currently in use: \\n\")\n",
    "initial_rf.get_params()"
   ],
   "outputs": [
    {
     "output_type": "stream",
     "name": "stdout",
     "text": [
      "Parameters currently in use: \n",
      "\n"
     ]
    },
    {
     "output_type": "execute_result",
     "data": {
      "text/plain": [
       "{'bootstrap': True,\n",
       " 'ccp_alpha': 0.0,\n",
       " 'criterion': 'mse',\n",
       " 'max_depth': 90,\n",
       " 'max_features': 'auto',\n",
       " 'max_leaf_nodes': None,\n",
       " 'max_samples': None,\n",
       " 'min_impurity_decrease': 0.0,\n",
       " 'min_impurity_split': None,\n",
       " 'min_samples_leaf': 1,\n",
       " 'min_samples_split': 2,\n",
       " 'min_weight_fraction_leaf': 0.0,\n",
       " 'n_estimators': 500,\n",
       " 'n_jobs': None,\n",
       " 'oob_score': False,\n",
       " 'random_state': 1,\n",
       " 'verbose': 0,\n",
       " 'warm_start': False}"
      ]
     },
     "metadata": {},
     "execution_count": 58
    }
   ],
   "metadata": {}
  },
  {
   "cell_type": "code",
   "execution_count": 59,
   "source": [
    "#Establishing Parameter Grid\n",
    "rf_param_grid = {\n",
    "    'bootstrap': [True],\n",
    "    'max_depth': [80, 90, 100, 110],\n",
    "    #'max_features': [2, 3, 5],\n",
    "    #'min_samples_leaf': [3, 4, 5],\n",
    "    #'min_samples_split': [8, 10],\n",
    "    'n_estimators': [500, 600, 800]\n",
    "}"
   ],
   "outputs": [],
   "metadata": {}
  },
  {
   "cell_type": "markdown",
   "source": [
    "For Hyperparameter Tuning, a param_grid dictionary has been created with six parameters, focussing on some of the most important settings for the Random Forest Model:\n",
    "- the method for sampling data points with or without replacement (bootstrap),\n",
    "- the number of levels in each decision tree (max_depth),\n",
    "- the number of features that are considered for splitting the leaf nodes (max_features),\n",
    "- the minimum number of data points allowed in each leaf node (min_samples_leaf),\n",
    "- the minimum number of data points placed in each node before the node is split (min_samples_split) and\n",
    "- the number of trees in the forest (n_estimators).\n",
    "\n",
    "Through this dictionary, the aim is to find which values of the ones given provide the highest accuracy for the model.\n",
    "With this dictionary, it is possible to check for (1 * 4 * 2 * 3 * 2 * 3) combinations \n",
    "\n",
    "_PLEASE NOTE: For the purpose of this project, due to time constraints, the number of parameters had eventually be reduced._"
   ],
   "metadata": {}
  },
  {
   "cell_type": "code",
   "execution_count": 61,
   "source": [
    "#Creating a new Random Forest Model\n",
    "rf = RandomForestRegressor()\n",
    "\n",
    "#Creating the Grid Search Model using the Random Forest with 5 folds\n",
    "rf_grid_search = GridSearchCV(rf, param_grid = rf_param_grid, cv = 5, n_jobs = -1, verbose = 2)\n",
    "#Fitting the grid search to the data\n",
    "rf_grid_search.fit(x_train, y_train)"
   ],
   "outputs": [
    {
     "output_type": "stream",
     "name": "stdout",
     "text": [
      "Fitting 5 folds for each of 12 candidates, totalling 60 fits\n"
     ]
    },
    {
     "output_type": "stream",
     "name": "stderr",
     "text": [
      "/Users/vanyamantek/opt/anaconda3/lib/python3.8/site-packages/joblib/externals/loky/process_executor.py:688: UserWarning: A worker stopped while some jobs were given to the executor. This can be caused by a too short worker timeout or by a memory leak.\n",
      "  warnings.warn(\n"
     ]
    },
    {
     "output_type": "execute_result",
     "data": {
      "text/plain": [
       "GridSearchCV(cv=5, estimator=RandomForestRegressor(), n_jobs=-1,\n",
       "             param_grid={'bootstrap': [True], 'max_depth': [80, 90, 100, 110],\n",
       "                         'n_estimators': [500, 600, 800]},\n",
       "             verbose=2)"
      ]
     },
     "metadata": {},
     "execution_count": 61
    }
   ],
   "metadata": {}
  },
  {
   "cell_type": "code",
   "execution_count": 62,
   "source": [
    "#Looking for the best parameters to use\n",
    "rf_grid_search.best_params_"
   ],
   "outputs": [
    {
     "output_type": "execute_result",
     "data": {
      "text/plain": [
       "{'bootstrap': True, 'max_depth': 90, 'n_estimators': 800}"
      ]
     },
     "metadata": {},
     "execution_count": 62
    }
   ],
   "metadata": {}
  },
  {
   "cell_type": "code",
   "execution_count": 65,
   "source": [
    "#Storing new RF model with hypertuned parameters\n",
    "hypertuned_rf = RandomForestRegressor(bootstrap = True, max_depth = 90, n_estimators = 800)\n",
    "#max_depth = 90, max_features = 3, min_samples_leaf = 4, min_samples_split = 10, random_state = 1)\n",
    "hypertuned_rf.fit(x_train, y_train)"
   ],
   "outputs": [
    {
     "output_type": "execute_result",
     "data": {
      "text/plain": [
       "RandomForestRegressor(max_depth=90, n_estimators=800)"
      ]
     },
     "metadata": {},
     "execution_count": 65
    }
   ],
   "metadata": {}
  },
  {
   "cell_type": "code",
   "execution_count": 66,
   "source": [
    "#Predict Time to Sell with RF\n",
    "hypertuned_rf_pred = hypertuned_rf.predict(x_test)\n",
    "hypertuned_rf_pred"
   ],
   "outputs": [
    {
     "output_type": "execute_result",
     "data": {
      "text/plain": [
       "array([35.0975 , 33.445  , 28.655  , ..., 32.86875, 27.38125, 38.4175 ])"
      ]
     },
     "metadata": {},
     "execution_count": 66
    }
   ],
   "metadata": {}
  },
  {
   "cell_type": "code",
   "execution_count": 122,
   "source": [
    "#Validate Model with R2\n",
    "hypertuned_rf_r2 = r2_score(y_test, hypertuned_rf_pred)\n",
    "hypertuned_rf_r2"
   ],
   "outputs": [
    {
     "output_type": "execute_result",
     "data": {
      "text/plain": [
       "0.1009598144504229"
      ]
     },
     "metadata": {},
     "execution_count": 122
    }
   ],
   "metadata": {}
  },
  {
   "cell_type": "markdown",
   "source": [
    "## Neural Network Model - Regression"
   ],
   "metadata": {}
  },
  {
   "cell_type": "markdown",
   "source": [
    "### . . . . . Initial Model"
   ],
   "metadata": {}
  },
  {
   "cell_type": "code",
   "execution_count": 82,
   "source": [
    "#Setting up initial Neural Network Model\n",
    "initial_mlp = MLPRegressor(activation = 'relu', solver = 'adam', batch_size = 'auto', learning_rate_init = 0.001, hidden_layer_sizes = (8, 8, 8), max_iter = 500, random_state = 1)\n",
    "initial_mlp.fit(x_train, y_train)\n",
    "\n",
    "validation_mlp = MLPRegressor(activation = 'relu', solver = 'adam', batch_size = 'auto', learning_rate_init = 0.001, hidden_layer_sizes = (8, 8, 8), max_iter = 500, random_state = 1)\n",
    "validation_mlp.fit(x_validation, y_validation)"
   ],
   "outputs": [
    {
     "output_type": "stream",
     "name": "stderr",
     "text": [
      "/Users/vanyamantek/opt/anaconda3/lib/python3.8/site-packages/sklearn/neural_network/_multilayer_perceptron.py:614: ConvergenceWarning: Stochastic Optimizer: Maximum iterations (500) reached and the optimization hasn't converged yet.\n",
      "  warnings.warn(\n"
     ]
    },
    {
     "output_type": "execute_result",
     "data": {
      "text/plain": [
       "MLPRegressor(hidden_layer_sizes=(8, 8, 8), max_iter=500, random_state=1)"
      ]
     },
     "metadata": {},
     "execution_count": 82
    }
   ],
   "metadata": {}
  },
  {
   "cell_type": "code",
   "execution_count": 99,
   "source": [
    "#Storing Prediction\n",
    "initial_mlp_pred = initial_mlp.predict(x_test)\n",
    "initial_mlp_pred"
   ],
   "outputs": [
    {
     "output_type": "execute_result",
     "data": {
      "text/plain": [
       "array([44.35788001, 28.25720323, 26.53598055, ..., 26.99513516,\n",
       "       25.35582699, 34.95698288])"
      ]
     },
     "metadata": {},
     "execution_count": 99
    }
   ],
   "metadata": {}
  },
  {
   "cell_type": "code",
   "execution_count": 39,
   "source": [
    "#Visualize Prediction VS Testset\n",
    "x_ax = range(len(y_test))\n",
    "plt.plot(x_ax, y_test, linewidth=1, label=\"observed days\", color = '#62D8CC', alpha = 0.4)\n",
    "plt.plot(x_ax, initial_mlp_pred, linewidth=1.1, color = '#722E80', label=\"predicted days\", alpha = 0.8)\n",
    "plt.title(\"Test Data VS Predicted Data\")\n",
    "plt.legend(bbox_to_anchor = (1.01, 1), loc = 'upper left', borderaxespad = 1, fontsize = 12, fancybox=True, shadow=True)\n",
    "plt.grid(True)\n",
    "plt.show()"
   ],
   "outputs": [
    {
     "output_type": "display_data",
     "data": {
      "image/png": "[encoded data removed]",
      "text/plain": [
       "<Figure size 432x288 with 1 Axes>"
      ]
     },
     "metadata": {
      "needs_background": "light"
     }
    }
   ],
   "metadata": {}
  },
  {
   "cell_type": "markdown",
   "source": [
    "We now use the Loss Function which encodes the error of the prediction by the Neural Network on a given observation with regards to the observation's true value."
   ],
   "metadata": {}
  },
  {
   "cell_type": "code",
   "execution_count": 148,
   "source": [
    "#Visualizing the values of the Loss Function\n",
    "plt_initial_mlp_loss = pd.DataFrame(initial_mlp.loss_curve_)\n",
    "plt_initial_mlp_loss = plt_initial_mlp_loss.rename(columns= { 0: 'train' })\n",
    "plt_validation_mlp_loss = pd.DataFrame(validation_mlp.loss_curve_)\n",
    "plt_validation_mlp_loss = plt_validation_mlp_loss.rename(columns= { 0: 'validation' })\n",
    "\n",
    "compare_mlp = pd.concat([plt_initial_mlp_loss.reset_index(drop = True), plt_validation_mlp_loss.reset_index(drop = True)], axis=1)\n",
    "\n",
    "plt.plot(compare_mlp)\n",
    "plt.title(\"Loss Curve\")\n",
    "plt.ylabel(\"Loss\")\n",
    "plt.xlabel(\"n iteration\")\n",
    "plt.legend(labels = ['train', 'validation'])\n"
   ],
   "outputs": [
    {
     "output_type": "execute_result",
     "data": {
      "text/plain": [
       "<matplotlib.legend.Legend at 0x7fcc11e9c6d0>"
      ]
     },
     "metadata": {},
     "execution_count": 148
    },
    {
     "output_type": "display_data",
     "data": {
      "image/png": "[encoded data removed]",
      "text/plain": [
       "<Figure size 432x288 with 1 Axes>"
      ]
     },
     "metadata": {
      "needs_background": "light"
     }
    }
   ],
   "metadata": {}
  },
  {
   "cell_type": "markdown",
   "source": [
    "Our model currently is very underfit. This means that our model did not learn the training dataset well enough in order to obtain reliable results, as the training error value can be quite high.\n",
    "We can see that it is underfit because the line is very flat, almost immediately, while it slowly declines more and more. This is an indication that our model does not have capacity for the complexity of our dataset.\n"
   ],
   "metadata": {}
  },
  {
   "cell_type": "code",
   "execution_count": 100,
   "source": [
    "#Validating the Model with R2\n",
    "initial_mlp_r2 = r2_score(y_test, initial_mlp_pred)\n",
    "initial_mlp_r2"
   ],
   "outputs": [
    {
     "output_type": "execute_result",
     "data": {
      "text/plain": [
       "0.10637835451818023"
      ]
     },
     "metadata": {},
     "execution_count": 100
    }
   ],
   "metadata": {}
  },
  {
   "cell_type": "markdown",
   "source": [
    "Also our R2 value is quite low in this model as well."
   ],
   "metadata": {}
  },
  {
   "cell_type": "markdown",
   "source": [
    "### . . . . . Hyperparameter Tuning"
   ],
   "metadata": {}
  },
  {
   "cell_type": "code",
   "execution_count": 41,
   "source": [
    "#Find parameters currently in use\n",
    "print(\"Parameters currently in use: \\n\")\n",
    "initial_mlp.get_params()"
   ],
   "outputs": [
    {
     "output_type": "stream",
     "name": "stdout",
     "text": [
      "Parameters currently in use: \n",
      "\n"
     ]
    },
    {
     "output_type": "execute_result",
     "data": {
      "text/plain": [
       "{'activation': 'relu',\n",
       " 'alpha': 0.0001,\n",
       " 'batch_size': 'auto',\n",
       " 'beta_1': 0.9,\n",
       " 'beta_2': 0.999,\n",
       " 'early_stopping': False,\n",
       " 'epsilon': 1e-08,\n",
       " 'hidden_layer_sizes': (8, 8, 8),\n",
       " 'learning_rate': 'constant',\n",
       " 'learning_rate_init': 0.001,\n",
       " 'max_fun': 15000,\n",
       " 'max_iter': 500,\n",
       " 'momentum': 0.9,\n",
       " 'n_iter_no_change': 10,\n",
       " 'nesterovs_momentum': True,\n",
       " 'power_t': 0.5,\n",
       " 'random_state': 1,\n",
       " 'shuffle': True,\n",
       " 'solver': 'adam',\n",
       " 'tol': 0.0001,\n",
       " 'validation_fraction': 0.1,\n",
       " 'verbose': False,\n",
       " 'warm_start': False}"
      ]
     },
     "metadata": {},
     "execution_count": 41
    }
   ],
   "metadata": {}
  },
  {
   "cell_type": "code",
   "execution_count": 44,
   "source": [
    "#Establishing Parameter Grid\n",
    "mlp_param_grid = {\n",
    "    'activation': ['relu'],\n",
    "    'solver': ['adam'],\n",
    "    'batch_size':  ['auto', 20, 40, 60],\n",
    "    'learning_rate_init': [0.001, 0.005],\n",
    "    'hidden_layer_sizes': [(6, 6, 6), (8, 8, 8), (10, 10, 10)],\n",
    "    'max_iter': [500, 1000, 2000]\n",
    "}"
   ],
   "outputs": [],
   "metadata": {}
  },
  {
   "cell_type": "code",
   "execution_count": 45,
   "source": [
    "#Creating a new Neural Network Model\n",
    "mlp = MLPRegressor()\n",
    "\n",
    "#Creating the Grid Search Model using the Neural Network with 5 folds\n",
    "mlp_grid_search = GridSearchCV(mlp, param_grid = mlp_param_grid, cv = 5, n_jobs = -1, verbose = 2)\n",
    "#Fitting the grid search to the data\n",
    "mlp_grid_search.fit(x_train, y_train)"
   ],
   "outputs": [
    {
     "output_type": "stream",
     "name": "stdout",
     "text": [
      "Fitting 5 folds for each of 72 candidates, totalling 360 fits\n"
     ]
    },
    {
     "output_type": "execute_result",
     "data": {
      "text/plain": [
       "GridSearchCV(cv=5, estimator=MLPRegressor(), n_jobs=-1,\n",
       "             param_grid={'activation': ['relu'],\n",
       "                         'batch_size': ['auto', 20, 40, 60],\n",
       "                         'hidden_layer_sizes': [(6, 6, 6), (8, 8, 8),\n",
       "                                                (10, 10, 10)],\n",
       "                         'learning_rate_init': [0.001, 0.005],\n",
       "                         'max_iter': [500, 1000, 2000], 'solver': ['adam']},\n",
       "             verbose=2)"
      ]
     },
     "metadata": {},
     "execution_count": 45
    }
   ],
   "metadata": {}
  },
  {
   "cell_type": "code",
   "execution_count": 46,
   "source": [
    "#Looking for the best parameters to use\n",
    "mlp_grid_search.best_params_"
   ],
   "outputs": [
    {
     "output_type": "execute_result",
     "data": {
      "text/plain": [
       "{'activation': 'relu',\n",
       " 'batch_size': 40,\n",
       " 'hidden_layer_sizes': (6, 6, 6),\n",
       " 'learning_rate_init': 0.001,\n",
       " 'max_iter': 500,\n",
       " 'solver': 'adam'}"
      ]
     },
     "metadata": {},
     "execution_count": 46
    }
   ],
   "metadata": {}
  },
  {
   "cell_type": "code",
   "execution_count": 47,
   "source": [
    "#Storing new Neural Network model with hypertuned parameters\n",
    "hypertuned_mlp = MLPRegressor(activation = 'relu', batch_size = 40, hidden_layer_sizes = (6, 6, 6), learning_rate_init = 0.001, max_iter = 500, solver = 'adam', random_state = 1)\n",
    "hypertuned_mlp.fit(x_train, y_train)"
   ],
   "outputs": [
    {
     "output_type": "execute_result",
     "data": {
      "text/plain": [
       "MLPRegressor(batch_size=40, hidden_layer_sizes=(6, 6, 6), max_iter=500,\n",
       "             random_state=1)"
      ]
     },
     "metadata": {},
     "execution_count": 47
    }
   ],
   "metadata": {}
  },
  {
   "cell_type": "code",
   "execution_count": 67,
   "source": [
    "#Predict Time to Sell with Neural Network\n",
    "hypertuned_mlp_pred = hypertuned_mlp.predict(x_test)\n",
    "hypertuned_mlp_pred"
   ],
   "outputs": [
    {
     "output_type": "execute_result",
     "data": {
      "text/plain": [
       "array([41.54503773, 29.19995175, 26.1017776 , ..., 20.27066739,\n",
       "       27.10986683, 35.54544856])"
      ]
     },
     "metadata": {},
     "execution_count": 67
    }
   ],
   "metadata": {}
  },
  {
   "cell_type": "code",
   "execution_count": 128,
   "source": [
    "#Validate Model with Neural Network\n",
    "hypertuned_mlp_r2 = r2_score(y_test, hypertuned_mlp_pred)\n",
    "hypertuned_mlp_r2"
   ],
   "outputs": [
    {
     "output_type": "execute_result",
     "data": {
      "text/plain": [
       "0.10897433940324408"
      ]
     },
     "metadata": {},
     "execution_count": 128
    }
   ],
   "metadata": {}
  },
  {
   "cell_type": "markdown",
   "source": [
    "## Evaluation"
   ],
   "metadata": {}
  },
  {
   "cell_type": "markdown",
   "source": [
    "In this last section, we will evaluate both models' performances."
   ],
   "metadata": {}
  },
  {
   "cell_type": "code",
   "execution_count": 127,
   "source": [
    "print(\"\\nInitial Random Forest Model R2:\", initial_rf_r2)\n",
    "print(\"Hypertuned Random Forest Model R2:\", hypertuned_rf_r2)\n",
    "print(\"Hypertuned Random Forest Model Mean Squared Error:\", mean_squared_error(y_test, hypertuned_rf_pred))\n",
    "print(\"\\nInitial Neural Network Model R2\", initial_mlp_r2)\n",
    "print(\"Hypertuned Neural Network Model R2\", hypertuned_mlp_r2)\n",
    "print(\"Hypertuned Neural Network Model Mean Squared Error:\", mean_squared_error(y_test, hypertuned_mlp_pred))"
   ],
   "outputs": [
    {
     "output_type": "stream",
     "name": "stdout",
     "text": [
      "\n",
      "Initial Random Forest Model R2: 0.10289830231615693\n",
      "Hypertuned Random Forest Model R2: 0.1009598144504229\n",
      "Hypertuned Random Forest Model Mean Squared Error: 1456.2309403163763\n",
      "\n",
      "Initial Neural Network Model R2 0.10637835451818023\n",
      "Hypertuned Neural Network Model R2 0.10897433940324408\n",
      "Hypertuned Neural Network Model Mean Squared Error: 1443.2493190320045\n"
     ]
    }
   ],
   "metadata": {}
  },
  {
   "cell_type": "markdown",
   "source": [
    "Both models have a very low R2. Even after hypertuning the parameters, the R2 hardly changes at all, and in fact it is slighlty lower when looking at the Random Forest value.\n",
    "This is likely due to a rather small grid search. A lot of the parameters had to be removed from the search because of time constraints. \n",
    "A low R2, in general, reflects a low correlation between the observations and the predictions. This means that the selected independent variables are not really explaining that much about the dependent variable. \n",
    "\n",
    "Both models have a high Mean Squared Error, which furthermore underlines that the error in our squares is large: There is a high difference between the observed values and the predicted ones. \n",
    "\n",
    "At the same time, our Neural Network Model was very underfit. \n",
    "In order to do better next time, the following steps could be considered:\n",
    "\n",
    "- Adding more observations: Increasing the dataset could be helpful, since more datapoints might contribute to a stronger pattern in the dataset.\n",
    "- Increasing the number of features: The variables we selected for our model mostly had quite low correlations with the dependent variable, and the scatterplots from the EDA revealed that the more time passed when selling a house, the bigger the spread becomes, which can negatively influence the model. Perhaps by including more variables, including the categorical ones of our data, our model could improve.\n",
    "- Increase the model capacity: By adding more hidden layers, our neural network could be broken down further in a more detailed way. Since each layer applies a new transformation for the final output, the more layers you have, the more detailed the final output will become. This will lead to higher accuracy in our model.\n",
    "\n",
    "To conclude, at the moment, it is unlikely that our model is capable to accurately predict how long it takes to sell a house on Funda. We would consider the steps above to optimize our model in order to make better predictions."
   ],
   "metadata": {}
  },
  {
   "cell_type": "code",
   "execution_count": 120,
   "source": [
    "print(\" . . . .  the end.\")"
   ],
   "outputs": [
    {
     "output_type": "stream",
     "name": "stdout",
     "text": [
      " . . . .  the end.\n"
     ]
    }
   ],
   "metadata": {}
  }
 ],
 "metadata": {
  "orig_nbformat": 4,
  "language_info": {
   "name": "python",
   "version": "3.8.8",
   "mimetype": "text/x-python",
   "codemirror_mode": {
    "name": "ipython",
    "version": 3
   },
   "pygments_lexer": "ipython3",
   "nbconvert_exporter": "python",
   "file_extension": ".py"
  },
  "kernelspec": {
   "name": "python3",
   "display_name": "Python 3.8.8 64-bit ('base': conda)"
  },
  "interpreter": {
   "hash": "965d7d500dfd4a80e056bad57d1fcce8ea047cbeac7186d104d183c7506135be"
  }
 },
 "nbformat": 4,
 "nbformat_minor": 2
}